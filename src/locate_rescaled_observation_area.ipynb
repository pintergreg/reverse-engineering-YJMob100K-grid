{
 "cells": [
  {
   "cell_type": "code",
   "execution_count": 1,
   "metadata": {},
   "outputs": [],
   "source": [
    "from pathlib import Path\n",
    "\n",
    "import cv2\n",
    "import geopandas as gpd\n",
    "import matplotlib as mpl\n",
    "import matplotlib.pyplot as plt\n",
    "import osmnx as ox\n",
    "import yaml\n",
    "from shapely import Point, Polygon\n",
    "\n",
    "ox.settings.use_cache = True\n",
    "ox.settings.log_console = False\n",
    "\n",
    "with open(\"../plotting_config.yaml\", \"r\") as fp:\n",
    "    config = yaml.safe_load(fp)\n",
    "\n",
    "\n",
    "def calculate_image_size(\n",
    "    area_bounds: tuple[float, float, float, float], rx: int, ry: int\n",
    ") -> tuple[float, float]:\n",
    "    \"\"\"\n",
    "    area_bounds: (minx, miny, maxx, maxy)\n",
    "    \"\"\"\n",
    "    width = (area_bounds[2] - area_bounds[0]) / rx\n",
    "    height = (area_bounds[3] - area_bounds[1]) / ry\n",
    "    return width, height\n",
    "\n",
    "\n",
    "def plot_middle_japan(\n",
    "    area,\n",
    "    clipped: gpd.GeoDataFrame,\n",
    "    fig_width: int,\n",
    "    fig_height: int,\n",
    "    crs: int,\n",
    "    dpi: int = 100,\n",
    "):\n",
    "    fig = plt.figure(figsize=(fig_width, fig_height), dpi=dpi)\n",
    "    ax = fig.add_axes([0, 0, 1, 1], frameon=False, xticks=[], yticks=[])\n",
    "    gpd.GeoDataFrame(geometry=[area], crs=crs).plot(\n",
    "        color=\"white\", aspect=None, ax=ax, zorder=1\n",
    "    )\n",
    "    clipped.plot(color=\"#2d2d2d\", aspect=None, ax=ax, zorder=5)\n",
    "    selected_prefectures.plot(fc=\"none\", ec=\"#ff557f\", lw=2, ax=ax, zorder=10)\n",
    "    ax.margins(0)\n",
    "    ax.axis(\"off\")\n",
    "    ax.set_facecolor(\"white\")\n",
    "    fig.patch.set_visible(False)\n",
    "\n",
    "    return fig, ax\n",
    "\n",
    "\n",
    "def calculate_top_left_coordinates(area: Polygon, MPx: int, MPy: int, rx: int, ry: int):\n",
    "    return area.bounds[0] + MPx * rx, area.bounds[3] - MPy * ry\n",
    "\n",
    "\n",
    "def generate_grid_bottom_left(\n",
    "    startx: float, starty: float, stepx: float = 500, stepy: float = 500\n",
    "):\n",
    "    grid = []\n",
    "    x = []\n",
    "    y = []\n",
    "    # offsetx = 200*stepx\n",
    "    offsety = 200 * stepy\n",
    "    for j in range(200):\n",
    "        for i in range(200):\n",
    "            p = Polygon(\n",
    "                [\n",
    "                    Point(startx + (i * stepx), starty - offsety + (j * stepy)),\n",
    "                    Point(startx + stepx + (i * stepx), starty - offsety + (j * stepy)),\n",
    "                    Point(\n",
    "                        startx + stepx + (i * stepx),\n",
    "                        starty - offsety + stepy + (j * stepy),\n",
    "                    ),\n",
    "                    Point(startx + (i * stepx), starty - offsety + stepy + (j * stepy)),\n",
    "                ]\n",
    "            )\n",
    "            grid.append(p)\n",
    "            x.append(i + 1)\n",
    "            y.append(j + 1)\n",
    "    return gpd.GeoDataFrame(\n",
    "        {\"geometry\": grid, \"y\": x, \"x\": y}, geometry=\"geometry\", crs=CRS\n",
    "    )"
   ]
  },
  {
   "cell_type": "code",
   "execution_count": 2,
   "metadata": {
    "metadata": {},
    "tags": [
     "parameters"
    ]
   },
   "outputs": [],
   "source": [
    "CRS = 2449  # Japan Plane Rectangular CS VII\n",
    "\n",
    "rx = 4000\n",
    "ry = 4000\n",
    "version = \"\"\n",
    "version = \"_v2\"\n",
    "STRETCH = True"
   ]
  },
  {
   "cell_type": "code",
   "execution_count": 3,
   "metadata": {
    "metadata": {}
   },
   "outputs": [],
   "source": [
    "stretch_suffix = \"unstretched\"\n",
    "if STRETCH:\n",
    "    stretch_suffix = \"\"\n",
    "path = f\"../figures/rescaled/{stretch_suffix}\"\n",
    "Path(path).mkdir(parents=True, exist_ok=True)"
   ]
  },
  {
   "cell_type": "code",
   "execution_count": 4,
   "metadata": {
    "metadata": {}
   },
   "outputs": [],
   "source": [
    "selected_prefectures = gpd.read_file(\n",
    "    \"../data/geojson/admin4_selected.geojson\",\n",
    "    crs=4326,\n",
    ")\n",
    "\n",
    "# Convert to meter-unit projection\n",
    "selected_prefectures.to_crs(CRS, inplace=True)"
   ]
  },
  {
   "cell_type": "code",
   "execution_count": 5,
   "metadata": {
    "metadata": {}
   },
   "outputs": [],
   "source": [
    "coastlines = gpd.read_file(\"../data/geojson/japan_coastlines.geojson\", engine=\"pyogrio\")\n",
    "coastlines.to_crs(CRS, inplace=True)"
   ]
  },
  {
   "cell_type": "code",
   "execution_count": 6,
   "metadata": {
    "metadata": {}
   },
   "outputs": [],
   "source": [
    "clipped = gpd.clip(coastlines, selected_prefectures.unary_union.envelope)"
   ]
  },
  {
   "cell_type": "code",
   "execution_count": 7,
   "metadata": {
    "metadata": {}
   },
   "outputs": [],
   "source": [
    "area = selected_prefectures.unary_union.envelope\n",
    "area = Polygon(\n",
    "    [(round(i[0] / rx) * rx, round(i[1] / ry) * ry) for i in area.boundary.coords]\n",
    ")"
   ]
  },
  {
   "cell_type": "code",
   "execution_count": 8,
   "metadata": {
    "metadata": {}
   },
   "outputs": [
    {
     "name": "stdout",
     "output_type": "stream",
     "text": [
      "bounds: (-128000.0, -264000.0, 204000.0, 116000.0)\n",
      "width: 83.0, height: 95.0\n"
     ]
    }
   ],
   "source": [
    "print(f\"bounds: {area.bounds}\")\n",
    "W, H = calculate_image_size(area.bounds, rx, ry)\n",
    "print(f\"width: {W}, height: {H}\")"
   ]
  },
  {
   "cell_type": "code",
   "execution_count": 9,
   "metadata": {
    "metadata": {}
   },
   "outputs": [
    {
     "name": "stdout",
     "output_type": "stream",
     "text": [
      "width: 91, height: 86\n"
     ]
    }
   ],
   "source": [
    "# stretch\n",
    "if STRETCH:\n",
    "    W = round(W * 1.1)\n",
    "    H = round(H * 0.9)\n",
    "print(f\"width: {W}, height: {H}\")"
   ]
  },
  {
   "cell_type": "code",
   "execution_count": 10,
   "metadata": {
    "metadata": {}
   },
   "outputs": [
    {
     "data": {
      "image/png": "[encoded data removed]",
      "text/plain": [
       "<Figure size 91x86 with 1 Axes>"
      ]
     },
     "metadata": {},
     "output_type": "display_data"
    }
   ],
   "source": [
    "fig = plt.figure(figsize=(W, H), dpi=1)\n",
    "ax = fig.add_axes([0, 0, 1, 1], frameon=False, xticks=[], yticks=[])\n",
    "gpd.GeoDataFrame(geometry=[area], crs=CRS).plot(\n",
    "    color=\"white\", aspect=None, ax=ax, zorder=1\n",
    ")\n",
    "clipped.plot(color=\"#2d2d2d\", aspect=None, ax=ax, zorder=5)\n",
    "ax.margins(0)\n",
    "ax.axis(\"off\")\n",
    "ax.set_facecolor(\"white\")\n",
    "fig.patch.set_visible(False)\n",
    "\n",
    "fig.savefig(\n",
    "    f\"{path}/large_{rx}_{ry}.png\",\n",
    "    facecolor=\"white\",\n",
    "    pad_inches=0,\n",
    "    metadata=config[\"metadata\"],\n",
    ")"
   ]
  },
  {
   "cell_type": "code",
   "execution_count": 11,
   "metadata": {
    "metadata": {}
   },
   "outputs": [],
   "source": [
    "img_scale_w = 100000 / rx\n",
    "img_scale_h = 100000 / ry"
   ]
  },
  {
   "cell_type": "code",
   "execution_count": 12,
   "metadata": {
    "metadata": {}
   },
   "outputs": [
    {
     "name": "stdout",
     "output_type": "stream",
     "text": [
      "(19, 40)\n"
     ]
    },
    {
     "data": {
      "image/png": "[encoded data removed]",
      "text/plain": [
       "<Figure size 364x344 with 1 Axes>"
      ]
     },
     "metadata": {},
     "output_type": "display_data"
    }
   ],
   "source": [
    "# based on https://stackoverflow.com/a/18075751/4737417\n",
    "large_image = cv2.imread(f\"{path}/large_{rx}_{ry}.png\")\n",
    "small_image = cv2.imread(f\"{path}/activity_binary_{rx}_{ry}{version}.png\")\n",
    "\n",
    "bg = large_image.copy()\n",
    "method = cv2.TM_SQDIFF_NORMED\n",
    "result = cv2.matchTemplate(small_image, bg, method)\n",
    "\n",
    "# We want the minimum squared difference\n",
    "min_val, _, min_loc, max_loc = cv2.minMaxLoc(result)\n",
    "rows, cols = small_image.shape[:2]\n",
    "\n",
    "# Draw the rectangle:\n",
    "# Extract the coordinates of our best match\n",
    "if method in [cv2.TM_SQDIFF, cv2.TM_SQDIFF_NORMED]:\n",
    "    top_left = min_loc\n",
    "else:\n",
    "    top_left = max_loc\n",
    "bottom_right = (top_left[0] + rows, top_left[1] + cols)\n",
    "print(top_left)\n",
    "\n",
    "# Step 2: Get the size of the template. This is the same size as the match.\n",
    "trows, tcols = small_image.shape[:2]\n",
    "\n",
    "# Step 3: Draw the rectangle on large_image\n",
    "cv2.rectangle(bg, top_left, bottom_right, (0, 0, 255), 2)\n",
    "\n",
    "\n",
    "fig2 = plt.figure(figsize=(W / img_scale_w, H / img_scale_h), dpi=100)\n",
    "ax2 = fig2.add_axes([0, 0, 1, 1], frameon=False, xticks=[], yticks=[])\n",
    "ax2.imshow(bg)\n",
    "ax2.axis(\"off\")\n",
    "ax2.margins(0)\n",
    "fig2.patch.set_visible(False)\n",
    "fig2.savefig(\n",
    "    f\"{path}/location_{rx}_{ry}{version}.png\",\n",
    "    facecolor=\"white\",\n",
    "    pad_inches=0,\n",
    "    metadata=config[\"metadata\"],\n",
    ")"
   ]
  },
  {
   "cell_type": "code",
   "execution_count": 13,
   "metadata": {
    "metadata": {}
   },
   "outputs": [
    {
     "data": {
      "image/png": "[encoded data removed]",
      "text/plain": [
       "<Figure size 364x344 with 1 Axes>"
      ]
     },
     "metadata": {},
     "output_type": "display_data"
    }
   ],
   "source": [
    "transform = mpl.transforms.Affine2D().translate(*top_left)\n",
    "large_image = plt.imread(f\"{path}/large_{rx}_{ry}.png\")\n",
    "binary = plt.imread(f\"{path}/activity_binary_{rx}_{ry}{version}_blue.png\")\n",
    "fig_blue_z = plt.figure(figsize=(W / img_scale_w, H / img_scale_h), dpi=100)\n",
    "ax_blue_z = fig_blue_z.add_axes([0, 0, 1, 1], frameon=False, xticks=[], yticks=[])\n",
    "ax_blue_z.imshow(large_image, alpha=1, zorder=0)\n",
    "b = ax_blue_z.imshow(binary, alpha=0.5, zorder=1)\n",
    "b.set_transform(transform + ax_blue_z.transData)\n",
    "ax_blue_z.axis(\"off\")\n",
    "ax_blue_z.margins(0)\n",
    "\n",
    "xlim_4kv2 = [top_left[0] - (10 * W / H), top_left[0] + ((img_scale_w + 10) * W / H)]\n",
    "ylim_4kv2 = [top_left[1] + img_scale_h + 10, top_left[1] - 10]\n",
    "if rx == 4000 and version == \"\":\n",
    "    xlim_4kv2 = [8.418604651162791, 56.03488372093023]\n",
    "    ylim_4kv2 = [75.0, 30]\n",
    "ax_blue_z.set_xlim(xlim_4kv2)\n",
    "ax_blue_z.set_ylim(ylim_4kv2)\n",
    "\n",
    "fig_blue_z.patch.set_visible(False)\n",
    "for i in [\"png\"]:\n",
    "    fig_blue_z.savefig(\n",
    "        f\"{path}/template_matched_zoomed_{rx}_{ry}{version}.{i}\",\n",
    "        facecolor=\"white\",\n",
    "        pad_inches=0,\n",
    "        metadata=config[\"metadata\"],\n",
    "    )"
   ]
  },
  {
   "cell_type": "code",
   "execution_count": 14,
   "metadata": {
    "metadata": {}
   },
   "outputs": [
    {
     "name": "stdout",
     "output_type": "stream",
     "text": [
      "-58909.09090909091 -61777.77777777778\n"
     ]
    }
   ],
   "source": [
    "startx, starty = calculate_top_left_coordinates(area, *top_left, rx, ry)\n",
    "if STRETCH:\n",
    "    startx, starty = calculate_top_left_coordinates(area, *top_left, rx / 1.1, ry / 0.9)\n",
    "\n",
    "print(startx, starty)\n",
    "\n",
    "with open(f\"../output/anchor_{rx}_{ry}{version}.yaml\", \"w\") as fp:\n",
    "    yaml.dump({\"top_left\": {\"x\": round(startx, 3), \"y\": round(starty, 3)}}, fp)"
   ]
  }
 ],
 "metadata": {
  "kernelspec": {
   "display_name": "Python 3",
   "language": "python",
   "name": "python3"
  },
  "language_info": {
   "codemirror_mode": {
    "name": "ipython",
    "version": 3
   },
   "file_extension": ".py",
   "mimetype": "text/x-python",
   "name": "python",
   "nbconvert_exporter": "python",
   "pygments_lexer": "ipython3",
   "version": "3.12.3"
  }
 },
 "nbformat": 4,
 "nbformat_minor": 2
}
