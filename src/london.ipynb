{
 "cells": [
  {
   "cell_type": "code",
   "execution_count": 13,
   "metadata": {},
   "outputs": [],
   "source": [
    "from pathlib import Path\n",
    "\n",
    "import cv2\n",
    "import geopandas as gpd\n",
    "import matplotlib.pyplot as plt\n",
    "import numpy as np\n",
    "import osmnx as ox\n",
    "import pandas as pd\n",
    "import yaml\n",
    "from common import (\n",
    "    calculate_image_size,\n",
    "    calculate_top_left_coordinates,\n",
    "    generate_grid,\n",
    "    plot_heatmap,\n",
    "    rotate_90_cc,\n",
    "    to_matrix,\n",
    ")\n",
    "from shapely import Polygon\n",
    "\n",
    "with open(\"../plotting_config.yaml\", \"r\") as fp:\n",
    "    config = yaml.safe_load(fp)\n",
    "\n",
    "ox.settings.use_cache = True\n",
    "ox.settings.log_console = False"
   ]
  },
  {
   "cell_type": "code",
   "execution_count": 2,
   "metadata": {},
   "outputs": [
    {
     "data": {
      "text/html": [
       "<div>\n",
       "<style scoped>\n",
       "    .dataframe tbody tr th:only-of-type {\n",
       "        vertical-align: middle;\n",
       "    }\n",
       "\n",
       "    .dataframe tbody tr th {\n",
       "        vertical-align: top;\n",
       "    }\n",
       "\n",
       "    .dataframe thead th {\n",
       "        text-align: right;\n",
       "    }\n",
       "</style>\n",
       "<table border=\"1\" class=\"dataframe\">\n",
       "  <thead>\n",
       "    <tr style=\"text-align: right;\">\n",
       "      <th></th>\n",
       "      <th>userid</th>\n",
       "      <th>placeid</th>\n",
       "      <th>datetime</th>\n",
       "      <th>lat</th>\n",
       "      <th>lon</th>\n",
       "      <th>city</th>\n",
       "      <th>category</th>\n",
       "      <th>geometry</th>\n",
       "    </tr>\n",
       "  </thead>\n",
       "  <tbody>\n",
       "    <tr>\n",
       "      <th>0</th>\n",
       "      <td>fred-wilson</td>\n",
       "      <td>tocqueville-new-york</td>\n",
       "      <td>2010-10-22 23:44:29</td>\n",
       "      <td>40.736300</td>\n",
       "      <td>-73.992200</td>\n",
       "      <td>New York</td>\n",
       "      <td>Food:American</td>\n",
       "      <td>POINT (-73.99220 40.73630)</td>\n",
       "    </tr>\n",
       "    <tr>\n",
       "      <th>1</th>\n",
       "      <td>fred-wilson</td>\n",
       "      <td>wesleyan-university-usdan-university-center-mi...</td>\n",
       "      <td>2010-10-23 17:00:24</td>\n",
       "      <td>41.556974</td>\n",
       "      <td>-72.657571</td>\n",
       "      <td>Middletown</td>\n",
       "      <td>College &amp; Education:Student Center</td>\n",
       "      <td>POINT (-72.65757 41.55697)</td>\n",
       "    </tr>\n",
       "    <tr>\n",
       "      <th>2</th>\n",
       "      <td>fred-wilson</td>\n",
       "      <td>javapalooza-middletown</td>\n",
       "      <td>2010-10-23 20:30:45</td>\n",
       "      <td>41.558853</td>\n",
       "      <td>-72.648618</td>\n",
       "      <td>Middletown</td>\n",
       "      <td>Food:Coffee Shop</td>\n",
       "      <td>POINT (-72.64862 41.55885)</td>\n",
       "    </tr>\n",
       "  </tbody>\n",
       "</table>\n",
       "</div>"
      ],
      "text/plain": [
       "        userid                                            placeid  \\\n",
       "0  fred-wilson                               tocqueville-new-york   \n",
       "1  fred-wilson  wesleyan-university-usdan-university-center-mi...   \n",
       "2  fred-wilson                             javapalooza-middletown   \n",
       "\n",
       "             datetime        lat        lon        city  \\\n",
       "0 2010-10-22 23:44:29  40.736300 -73.992200    New York   \n",
       "1 2010-10-23 17:00:24  41.556974 -72.657571  Middletown   \n",
       "2 2010-10-23 20:30:45  41.558853 -72.648618  Middletown   \n",
       "\n",
       "                             category                    geometry  \n",
       "0                       Food:American  POINT (-73.99220 40.73630)  \n",
       "1  College & Education:Student Center  POINT (-72.65757 41.55697)  \n",
       "2                    Food:Coffee Shop  POINT (-72.64862 41.55885)  "
      ]
     },
     "execution_count": 2,
     "metadata": {},
     "output_type": "execute_result"
    }
   ],
   "source": [
    "weeplace = pd.read_csv(\"../data/weeplace/weeplace_checkins.csv\", engine=\"pyarrow\")\n",
    "weeplace = gpd.GeoDataFrame(\n",
    "    weeplace,\n",
    "    geometry=gpd.points_from_xy(weeplace.lon, weeplace.lat, crs=4326),\n",
    "    crs=4326,\n",
    ")\n",
    "weeplace.head(3)"
   ]
  },
  {
   "cell_type": "code",
   "execution_count": 3,
   "metadata": {},
   "outputs": [],
   "source": [
    "# Toronto\n",
    "CRS = 7991\n",
    "figures = \"../figures/toronto\"\n",
    "output = \"../output/toronto\"\n",
    "rx, ry = 4000, 4000\n",
    "sx, sy = 100000 // rx, 100000 // ry\n",
    "query = \"(lat.between(43, 43.9) & lon.between(-80, -78.775))\""
   ]
  },
  {
   "cell_type": "code",
   "execution_count": 4,
   "metadata": {
    "tags": [
     "parameters"
    ]
   },
   "outputs": [],
   "source": [
    "# # London\n",
    "# CRS = 27700\n",
    "# figures = \"../figures/london\"\n",
    "# output = \"../output/london\"\n",
    "# rx, ry = 500, 500\n",
    "# sx, sy = 100000 // rx, 100000 // ry\n",
    "# query = \"(lat.between(51, 51.9) & lon.between(-0.9, 0.515))\""
   ]
  },
  {
   "cell_type": "code",
   "execution_count": 5,
   "metadata": {},
   "outputs": [],
   "source": [
    "Path(figures).mkdir(parents=True, exist_ok=True)\n",
    "Path(output).mkdir(parents=True, exist_ok=True)"
   ]
  },
  {
   "cell_type": "code",
   "execution_count": 6,
   "metadata": {},
   "outputs": [
    {
     "data": {
      "text/plain": [
       "(264172.79738995945, 4762165.079586866, 363851.7849083473, 4862160.927633976)"
      ]
     },
     "execution_count": 6,
     "metadata": {},
     "output_type": "execute_result"
    },
    {
     "data": {
      "image/png": "[encoded data removed]",
      "text/plain": [
       "<Figure size 640x480 with 1 Axes>"
      ]
     },
     "metadata": {},
     "output_type": "display_data"
    }
   ],
   "source": [
    "weeplace.query(query).plot()\n",
    "data = weeplace.query(query).copy()\n",
    "data_crs = weeplace.query(query).to_crs(CRS)\n",
    "minx, miny, maxx, maxy = data_crs.unary_union.envelope.bounds\n",
    "data_crs.unary_union.envelope.bounds"
   ]
  },
  {
   "cell_type": "code",
   "execution_count": 7,
   "metadata": {},
   "outputs": [
    {
     "name": "stdout",
     "output_type": "stream",
     "text": [
      "100000.0\n",
      "100000.0\n"
     ]
    }
   ],
   "source": [
    "# London\n",
    "tminx = np.floor(minx / rx) * rx\n",
    "tmaxx = np.floor(maxx / rx) * rx\n",
    "tminy = np.floor(miny / ry) * ry\n",
    "tmaxy = np.floor(maxy / ry) * ry\n",
    "\n",
    "# Toronto\n",
    "if \"toronto\" in figures:\n",
    "    tminx = np.floor(minx / rx) * rx\n",
    "    tmaxx = np.ceil(maxx / rx) * rx\n",
    "    tminy = np.floor(miny / ry) * ry\n",
    "    tmaxy = np.floor(maxy / ry) * ry\n",
    "\n",
    "print(tmaxx - tminx)\n",
    "print(tmaxy - tminy)"
   ]
  },
  {
   "cell_type": "code",
   "execution_count": 8,
   "metadata": {},
   "outputs": [],
   "source": [
    "area = Polygon([(tminx, tminy), (tmaxx, tminy), (tmaxx, tmaxy), (tminx, tmaxy)])\n",
    "area_wgs84 = gpd.GeoDataFrame(geometry=[area], crs=CRS).to_crs(4326).geometry[0]\n",
    "\n",
    "grid = generate_grid(tminx, tmaxx, tminy, tmaxy, stepx=rx, stepy=ry, crs=CRS)"
   ]
  },
  {
   "cell_type": "code",
   "execution_count": 9,
   "metadata": {},
   "outputs": [],
   "source": [
    "data_with_grid = (\n",
    "    data_crs.sjoin(grid)\n",
    "    .groupby([\"x\", \"y\"])[\"userid\"]\n",
    "    .agg([\"count\", \"nunique\"])\n",
    "    .reset_index()\n",
    ")"
   ]
  },
  {
   "cell_type": "code",
   "execution_count": 10,
   "metadata": {},
   "outputs": [],
   "source": [
    "enriched_grid = grid.merge(data_with_grid, on=[\"x\", \"y\"], how=\"left\").fillna(0)\n",
    "enriched_grid[\"bin\"] = enriched_grid[\"count\"].apply(lambda x: 1 if x > 0 else 0)"
   ]
  },
  {
   "cell_type": "code",
   "execution_count": 11,
   "metadata": {},
   "outputs": [
    {
     "data": {
      "image/png": "[encoded data removed]",
      "text/plain": [
       "<Figure size 900x900 with 1 Axes>"
      ]
     },
     "metadata": {},
     "output_type": "display_data"
    }
   ],
   "source": [
    "f_g = plt.figure(figsize=(6, 6), dpi=150)\n",
    "a_g = f_g.add_axes([0, 0, 1, 1], frameon=False, xticks=[], yticks=[])\n",
    "enriched_grid.plot(column=\"bin\", cmap=\"binary\", ax=a_g)\n",
    "a_g.margins(0)\n",
    "a_g.axis(\"off\")\n",
    "a_g.set_facecolor(\"white\")\n",
    "\n",
    "f_g.savefig(\n",
    "    f\"{figures}/grid_{rx}_{ry}.png\",\n",
    "    facecolor=\"white\",\n",
    "    pad_inches=0,\n",
    "    metadata=config[\"metadata\"],\n",
    ")"
   ]
  },
  {
   "cell_type": "code",
   "execution_count": 12,
   "metadata": {},
   "outputs": [],
   "source": [
    "enriched_grid.to_file(f\"{output}/grid_{rx}_{ry}_enriched.geojson\")"
   ]
  },
  {
   "cell_type": "code",
   "execution_count": 234,
   "metadata": {},
   "outputs": [
    {
     "data": {
      "text/html": [
       "<div>\n",
       "<style scoped>\n",
       "    .dataframe tbody tr th:only-of-type {\n",
       "        vertical-align: middle;\n",
       "    }\n",
       "\n",
       "    .dataframe tbody tr th {\n",
       "        vertical-align: top;\n",
       "    }\n",
       "\n",
       "    .dataframe thead th {\n",
       "        text-align: right;\n",
       "    }\n",
       "</style>\n",
       "<table border=\"1\" class=\"dataframe\">\n",
       "  <thead>\n",
       "    <tr style=\"text-align: right;\">\n",
       "      <th></th>\n",
       "      <th>geometry</th>\n",
       "      <th>x</th>\n",
       "      <th>y</th>\n",
       "      <th>count</th>\n",
       "      <th>nunique</th>\n",
       "      <th>bin</th>\n",
       "    </tr>\n",
       "  </thead>\n",
       "  <tbody>\n",
       "    <tr>\n",
       "      <th>0</th>\n",
       "      <td>POLYGON ((264000.000 4760000.000, 268000.000 4...</td>\n",
       "      <td>0</td>\n",
       "      <td>0</td>\n",
       "      <td>0.0</td>\n",
       "      <td>0.0</td>\n",
       "      <td>0</td>\n",
       "    </tr>\n",
       "    <tr>\n",
       "      <th>1</th>\n",
       "      <td>POLYGON ((264000.000 4764000.000, 268000.000 4...</td>\n",
       "      <td>0</td>\n",
       "      <td>1</td>\n",
       "      <td>0.0</td>\n",
       "      <td>0.0</td>\n",
       "      <td>0</td>\n",
       "    </tr>\n",
       "    <tr>\n",
       "      <th>2</th>\n",
       "      <td>POLYGON ((264000.000 4768000.000, 268000.000 4...</td>\n",
       "      <td>0</td>\n",
       "      <td>2</td>\n",
       "      <td>1.0</td>\n",
       "      <td>1.0</td>\n",
       "      <td>1</td>\n",
       "    </tr>\n",
       "    <tr>\n",
       "      <th>3</th>\n",
       "      <td>POLYGON ((264000.000 4772000.000, 268000.000 4...</td>\n",
       "      <td>0</td>\n",
       "      <td>3</td>\n",
       "      <td>0.0</td>\n",
       "      <td>0.0</td>\n",
       "      <td>0</td>\n",
       "    </tr>\n",
       "    <tr>\n",
       "      <th>4</th>\n",
       "      <td>POLYGON ((264000.000 4776000.000, 268000.000 4...</td>\n",
       "      <td>0</td>\n",
       "      <td>4</td>\n",
       "      <td>0.0</td>\n",
       "      <td>0.0</td>\n",
       "      <td>0</td>\n",
       "    </tr>\n",
       "    <tr>\n",
       "      <th>...</th>\n",
       "      <td>...</td>\n",
       "      <td>...</td>\n",
       "      <td>...</td>\n",
       "      <td>...</td>\n",
       "      <td>...</td>\n",
       "      <td>...</td>\n",
       "    </tr>\n",
       "    <tr>\n",
       "      <th>620</th>\n",
       "      <td>POLYGON ((360000.000 4840000.000, 364000.000 4...</td>\n",
       "      <td>24</td>\n",
       "      <td>20</td>\n",
       "      <td>0.0</td>\n",
       "      <td>0.0</td>\n",
       "      <td>0</td>\n",
       "    </tr>\n",
       "    <tr>\n",
       "      <th>621</th>\n",
       "      <td>POLYGON ((360000.000 4844000.000, 364000.000 4...</td>\n",
       "      <td>24</td>\n",
       "      <td>21</td>\n",
       "      <td>0.0</td>\n",
       "      <td>0.0</td>\n",
       "      <td>0</td>\n",
       "    </tr>\n",
       "    <tr>\n",
       "      <th>622</th>\n",
       "      <td>POLYGON ((360000.000 4848000.000, 364000.000 4...</td>\n",
       "      <td>24</td>\n",
       "      <td>22</td>\n",
       "      <td>0.0</td>\n",
       "      <td>0.0</td>\n",
       "      <td>0</td>\n",
       "    </tr>\n",
       "    <tr>\n",
       "      <th>623</th>\n",
       "      <td>POLYGON ((360000.000 4852000.000, 364000.000 4...</td>\n",
       "      <td>24</td>\n",
       "      <td>23</td>\n",
       "      <td>0.0</td>\n",
       "      <td>0.0</td>\n",
       "      <td>0</td>\n",
       "    </tr>\n",
       "    <tr>\n",
       "      <th>624</th>\n",
       "      <td>POLYGON ((360000.000 4856000.000, 364000.000 4...</td>\n",
       "      <td>24</td>\n",
       "      <td>24</td>\n",
       "      <td>5.0</td>\n",
       "      <td>4.0</td>\n",
       "      <td>1</td>\n",
       "    </tr>\n",
       "  </tbody>\n",
       "</table>\n",
       "<p>625 rows × 6 columns</p>\n",
       "</div>"
      ],
      "text/plain": [
       "                                              geometry   x   y  count  \\\n",
       "0    POLYGON ((264000.000 4760000.000, 268000.000 4...   0   0    0.0   \n",
       "1    POLYGON ((264000.000 4764000.000, 268000.000 4...   0   1    0.0   \n",
       "2    POLYGON ((264000.000 4768000.000, 268000.000 4...   0   2    1.0   \n",
       "3    POLYGON ((264000.000 4772000.000, 268000.000 4...   0   3    0.0   \n",
       "4    POLYGON ((264000.000 4776000.000, 268000.000 4...   0   4    0.0   \n",
       "..                                                 ...  ..  ..    ...   \n",
       "620  POLYGON ((360000.000 4840000.000, 364000.000 4...  24  20    0.0   \n",
       "621  POLYGON ((360000.000 4844000.000, 364000.000 4...  24  21    0.0   \n",
       "622  POLYGON ((360000.000 4848000.000, 364000.000 4...  24  22    0.0   \n",
       "623  POLYGON ((360000.000 4852000.000, 364000.000 4...  24  23    0.0   \n",
       "624  POLYGON ((360000.000 4856000.000, 364000.000 4...  24  24    5.0   \n",
       "\n",
       "     nunique  bin  \n",
       "0        0.0    0  \n",
       "1        0.0    0  \n",
       "2        1.0    1  \n",
       "3        0.0    0  \n",
       "4        0.0    0  \n",
       "..       ...  ...  \n",
       "620      0.0    0  \n",
       "621      0.0    0  \n",
       "622      0.0    0  \n",
       "623      0.0    0  \n",
       "624      4.0    1  \n",
       "\n",
       "[625 rows x 6 columns]"
      ]
     },
     "execution_count": 234,
     "metadata": {},
     "output_type": "execute_result"
    }
   ],
   "source": [
    "enriched_grid"
   ]
  },
  {
   "cell_type": "code",
   "execution_count": 235,
   "metadata": {},
   "outputs": [],
   "source": [
    "enriched_grid[\"x\"] += 1\n",
    "enriched_grid[\"y\"] += 1"
   ]
  },
  {
   "cell_type": "code",
   "execution_count": 236,
   "metadata": {},
   "outputs": [
    {
     "data": {
      "image/png": "[encoded data removed]",
      "text/plain": [
       "<Figure size 25x25 with 1 Axes>"
      ]
     },
     "metadata": {},
     "output_type": "display_data"
    },
    {
     "data": {
      "image/png": "[encoded data removed]",
      "text/plain": [
       "<Figure size 25x25 with 1 Axes>"
      ]
     },
     "metadata": {},
     "output_type": "display_data"
    }
   ],
   "source": [
    "mx = rotate_90_cc(to_matrix(enriched_grid, shape=(sx, sy), value=\"bin\"))\n",
    "\n",
    "f_b, _ = plot_heatmap(mx, figsize=(sx, sy), dpi=1, cmap=\"binary\")\n",
    "f_b.savefig(\n",
    "    f\"{figures}/activity_binary_{rx}_{ry}.png\",\n",
    "    facecolor=\"white\",\n",
    "    pad_inches=0,\n",
    "    metadata=config[\"metadata\"],\n",
    ")\n",
    "f_b, _ = plot_heatmap(mx, figsize=(sx / 100, sy / 100), dpi=100, cmap=\"binary\")\n",
    "f_b.savefig(\n",
    "    f\"{figures}/activity_binary_{rx}_{ry}_dpi_fixed.png\",\n",
    "    facecolor=\"white\",\n",
    "    pad_inches=0,\n",
    "    metadata=config[\"metadata\"],\n",
    ")"
   ]
  },
  {
   "cell_type": "code",
   "execution_count": 237,
   "metadata": {},
   "outputs": [],
   "source": [
    "large = area.buffer(100000).envelope\n",
    "large_crs = gpd.GeoDataFrame(geometry=[large], crs=CRS).geometry[0]\n",
    "large_wgs84 = gpd.GeoDataFrame(geometry=[large], crs=CRS).to_crs(4326).geometry[0]"
   ]
  },
  {
   "cell_type": "code",
   "execution_count": 238,
   "metadata": {},
   "outputs": [],
   "source": [
    "try:\n",
    "    landuse = pd.read_pickle(f\"{output}/landuse_crs.pickle\")\n",
    "except FileNotFoundError:\n",
    "    landuse = ox.features_from_polygon(\n",
    "        large_wgs84, tags={\"landuse\": [\"residential\", \"retail\", \"industrial\"]}\n",
    "    )\n",
    "    landuse = landuse[landuse[\"geometry\"].geom_type == \"Polygon\"].copy()\n",
    "    landuse.to_crs(CRS, inplace=True)\n",
    "    landuse.to_pickle(f\"{output}/landuse_crs.pickle\")"
   ]
  },
  {
   "cell_type": "code",
   "execution_count": 239,
   "metadata": {},
   "outputs": [],
   "source": [
    "if not Path(f\"{figures}/landuse.png\").exists():\n",
    "    f_lu = plt.figure(figsize=(6, 6), dpi=150)\n",
    "    a_lu = f_lu.add_axes([0, 0, 1, 1], frameon=False, xticks=[], yticks=[])\n",
    "    gpd.clip(landuse, area).plot(ax=a_lu, color=\"black\")\n",
    "    a_lu.margins(0)\n",
    "    a_lu.axis(\"off\")\n",
    "    a_lu.set_facecolor(\"white\")\n",
    "\n",
    "    f_lu.savefig(\n",
    "        f\"{figures}/landuse.png\",\n",
    "        facecolor=\"white\",\n",
    "        pad_inches=0,\n",
    "        metadata=config[\"metadata\"],\n",
    "    )"
   ]
  },
  {
   "cell_type": "code",
   "execution_count": 240,
   "metadata": {},
   "outputs": [
    {
     "name": "stdout",
     "output_type": "stream",
     "text": [
      "75.0 75.0\n"
     ]
    }
   ],
   "source": [
    "W, H = calculate_image_size(large_crs.bounds, rx, ry)\n",
    "print(W, H)"
   ]
  },
  {
   "cell_type": "code",
   "execution_count": 241,
   "metadata": {},
   "outputs": [
    {
     "data": {
      "image/png": "[encoded data removed]",
      "text/plain": [
       "<Figure size 75x75 with 1 Axes>"
      ]
     },
     "metadata": {},
     "output_type": "display_data"
    }
   ],
   "source": [
    "fig = plt.figure(figsize=(W, H), dpi=1)\n",
    "ax = fig.add_axes([0, 0, 1, 1], frameon=False, xticks=[], yticks=[])\n",
    "gpd.GeoDataFrame(geometry=[large_crs], crs=CRS).plot(\n",
    "    color=\"white\", aspect=None, ax=ax, zorder=1\n",
    ")\n",
    "landuse.plot(color=\"#000000\", aspect=None, ax=ax, zorder=5)\n",
    "ax.margins(0)\n",
    "ax.axis(\"off\")\n",
    "ax.set_facecolor(\"white\")\n",
    "fig.patch.set_visible(False)\n",
    "\n",
    "fig.savefig(\n",
    "    f\"{figures}/large_{rx}_{ry}.png\",\n",
    "    facecolor=\"white\",\n",
    "    pad_inches=0,\n",
    "    metadata=config[\"metadata\"],\n",
    ")"
   ]
  },
  {
   "cell_type": "code",
   "execution_count": 242,
   "metadata": {},
   "outputs": [
    {
     "name": "stdout",
     "output_type": "stream",
     "text": [
      "(25, 25)\n"
     ]
    },
    {
     "data": {
      "image/png": "[encoded data removed]",
      "text/plain": [
       "<Figure size 75x75 with 1 Axes>"
      ]
     },
     "metadata": {},
     "output_type": "display_data"
    }
   ],
   "source": [
    "large_image = cv2.imread(f\"{figures}/large_{rx}_{ry}.png\")\n",
    "template = cv2.imread(f\"{figures}/activity_binary_{rx}_{ry}.png\")\n",
    "\n",
    "method = cv2.TM_CCOEFF_NORMED\n",
    "result = cv2.matchTemplate(large_image, template, method)\n",
    "\n",
    "min_val, max_val, min_loc, max_loc = cv2.minMaxLoc(result)\n",
    "\n",
    "# Step 2: Get the size of the template. This is the same size as the match.\n",
    "trows, tcols = template.shape[:2]\n",
    "\n",
    "# If the method is TM_SQDIFF or TM_SQDIFF_NORMED, take minimum\n",
    "if method in [cv2.TM_SQDIFF, cv2.TM_SQDIFF_NORMED]:\n",
    "    top_left = min_loc\n",
    "else:\n",
    "    top_left = max_loc\n",
    "bottom_right = (top_left[0] + trows, top_left[1] + tcols)\n",
    "print(top_left)\n",
    "\n",
    "# Step 3: Draw the rectangle on large_image\n",
    "cv2.rectangle(large_image, top_left, bottom_right, (0, 0, 255), 2)\n",
    "\n",
    "fig2 = plt.figure(figsize=(W / 100, H / 100), dpi=100)\n",
    "ax2 = fig2.add_axes([0, 0, 1, 1], frameon=False, xticks=[], yticks=[])\n",
    "ax2.imshow(large_image)\n",
    "ax2.axis(\"off\")\n",
    "ax2.margins(0)\n",
    "fig2.patch.set_visible(False)\n",
    "fig2.savefig(\n",
    "    f\"{figures}/location_{rx}_{ry}.png\",\n",
    "    facecolor=\"white\",\n",
    "    pad_inches=0,\n",
    "    metadata=config[\"metadata\"],\n",
    ")"
   ]
  },
  {
   "cell_type": "code",
   "execution_count": 243,
   "metadata": {},
   "outputs": [
    {
     "name": "stdout",
     "output_type": "stream",
     "text": [
      "364000.0 4760000.0\n"
     ]
    }
   ],
   "source": [
    "startx, starty = calculate_top_left_coordinates(area, *top_left, rx, ry)\n",
    "print(startx, starty)\n",
    "\n",
    "with open(f\"{output}/anchor_{rx}_{ry}.yaml\", \"w\") as fp:\n",
    "    yaml.dump(\n",
    "        {\n",
    "            \"top_left\": {\"x\": round(startx, 3), \"y\": round(starty, 3)},\n",
    "            \"area\": {\n",
    "                \"bounds\": {\n",
    "                    \"minx\": area.bounds[0],\n",
    "                    \"maxx\": area.bounds[2],\n",
    "                    \"miny\": area.bounds[1],\n",
    "                    \"maxy\": area.bounds[3],\n",
    "                }\n",
    "            },\n",
    "        },\n",
    "        fp,\n",
    "    )"
   ]
  }
 ],
 "metadata": {
  "kernelspec": {
   "display_name": "reverse-engineering-yjmob100k-grid-lm2EsvD6-py3.11",
   "language": "python",
   "name": "python3"
  },
  "language_info": {
   "codemirror_mode": {
    "name": "ipython",
    "version": 3
   },
   "file_extension": ".py",
   "mimetype": "text/x-python",
   "name": "python",
   "nbconvert_exporter": "python",
   "pygments_lexer": "ipython3",
   "version": "3.11.8"
  }
 },
 "nbformat": 4,
 "nbformat_minor": 2
}
