{
 "cells": [
  {
   "cell_type": "code",
   "execution_count": 1,
   "metadata": {},
   "outputs": [],
   "source": [
    "import re\n",
    "from pathlib import Path\n",
    "from typing import Optional\n",
    "\n",
    "import cv2\n",
    "import geopandas as gpd\n",
    "import matplotlib.pyplot as plt\n",
    "import numpy as np\n",
    "import osmnx as ox\n",
    "import pandas as pd\n",
    "import shapely\n",
    "import yaml\n",
    "from common import (\n",
    "    calculate_image_size,\n",
    "    calculate_top_left_coordinates,\n",
    "    generate_grid,\n",
    "    plot_heatmap,\n",
    "    rotate_90_cc,\n",
    "    to_matrix,\n",
    ")\n",
    "from shapely import Polygon\n",
    "\n",
    "with open(\"../plotting_config.yaml\", \"r\") as fp:\n",
    "    config = yaml.safe_load(fp)\n",
    "\n",
    "ox.settings.use_cache = True\n",
    "ox.settings.log_console = False"
   ]
  },
  {
   "cell_type": "code",
   "execution_count": 2,
   "metadata": {},
   "outputs": [],
   "source": [
    "def add_noise(\n",
    "    data: gpd.GeoDataFrame,\n",
    "    scale: float,\n",
    "    seed: Optional[int] = None,\n",
    ") -> gpd.GeoDataFrame:\n",
    "    temp = data.copy()\n",
    "    if seed:\n",
    "        np.random.seed(seed)\n",
    "    temp[\"new_lon\"] = temp[\"geometry\"].apply(\n",
    "        lambda x: np.random.normal(loc=x.x, scale=scale)\n",
    "    )\n",
    "    temp[\"new_lat\"] = temp[\"geometry\"].apply(\n",
    "        lambda x: np.random.normal(loc=x.y, scale=scale)\n",
    "    )\n",
    "    temp[\"geometry_old\"] = temp[\"geometry\"]\n",
    "    temp[\"geometry\"] = gpd.points_from_xy(temp[\"new_lon\"], temp[\"new_lat\"])\n",
    "    temp[\"distance\"] = shapely.distance(temp[\"geometry\"], temp[\"geometry_old\"])\n",
    "    return temp"
   ]
  },
  {
   "cell_type": "code",
   "execution_count": 3,
   "metadata": {},
   "outputs": [
    {
     "data": {
      "text/html": [
       "<div>\n",
       "<style scoped>\n",
       "    .dataframe tbody tr th:only-of-type {\n",
       "        vertical-align: middle;\n",
       "    }\n",
       "\n",
       "    .dataframe tbody tr th {\n",
       "        vertical-align: top;\n",
       "    }\n",
       "\n",
       "    .dataframe thead th {\n",
       "        text-align: right;\n",
       "    }\n",
       "</style>\n",
       "<table border=\"1\" class=\"dataframe\">\n",
       "  <thead>\n",
       "    <tr style=\"text-align: right;\">\n",
       "      <th></th>\n",
       "      <th>userid</th>\n",
       "      <th>placeid</th>\n",
       "      <th>datetime</th>\n",
       "      <th>lat</th>\n",
       "      <th>lon</th>\n",
       "      <th>city</th>\n",
       "      <th>category</th>\n",
       "      <th>geometry</th>\n",
       "    </tr>\n",
       "  </thead>\n",
       "  <tbody>\n",
       "    <tr>\n",
       "      <th>0</th>\n",
       "      <td>fred-wilson</td>\n",
       "      <td>tocqueville-new-york</td>\n",
       "      <td>2010-10-22 23:44:29</td>\n",
       "      <td>40.736300</td>\n",
       "      <td>-73.992200</td>\n",
       "      <td>New York</td>\n",
       "      <td>Food:American</td>\n",
       "      <td>POINT (-73.9922 40.7363)</td>\n",
       "    </tr>\n",
       "    <tr>\n",
       "      <th>1</th>\n",
       "      <td>fred-wilson</td>\n",
       "      <td>wesleyan-university-usdan-university-center-mi...</td>\n",
       "      <td>2010-10-23 17:00:24</td>\n",
       "      <td>41.556974</td>\n",
       "      <td>-72.657571</td>\n",
       "      <td>Middletown</td>\n",
       "      <td>College &amp; Education:Student Center</td>\n",
       "      <td>POINT (-72.65757 41.55697)</td>\n",
       "    </tr>\n",
       "    <tr>\n",
       "      <th>2</th>\n",
       "      <td>fred-wilson</td>\n",
       "      <td>javapalooza-middletown</td>\n",
       "      <td>2010-10-23 20:30:45</td>\n",
       "      <td>41.558853</td>\n",
       "      <td>-72.648618</td>\n",
       "      <td>Middletown</td>\n",
       "      <td>Food:Coffee Shop</td>\n",
       "      <td>POINT (-72.64862 41.55885)</td>\n",
       "    </tr>\n",
       "  </tbody>\n",
       "</table>\n",
       "</div>"
      ],
      "text/plain": [
       "        userid                                            placeid  \\\n",
       "0  fred-wilson                               tocqueville-new-york   \n",
       "1  fred-wilson  wesleyan-university-usdan-university-center-mi...   \n",
       "2  fred-wilson                             javapalooza-middletown   \n",
       "\n",
       "             datetime        lat        lon        city  \\\n",
       "0 2010-10-22 23:44:29  40.736300 -73.992200    New York   \n",
       "1 2010-10-23 17:00:24  41.556974 -72.657571  Middletown   \n",
       "2 2010-10-23 20:30:45  41.558853 -72.648618  Middletown   \n",
       "\n",
       "                             category                    geometry  \n",
       "0                       Food:American    POINT (-73.9922 40.7363)  \n",
       "1  College & Education:Student Center  POINT (-72.65757 41.55697)  \n",
       "2                    Food:Coffee Shop  POINT (-72.64862 41.55885)  "
      ]
     },
     "execution_count": 3,
     "metadata": {},
     "output_type": "execute_result"
    }
   ],
   "source": [
    "weeplace = pd.read_csv(\"../data/weeplace/weeplace_checkins.csv\", engine=\"pyarrow\")\n",
    "weeplace = gpd.GeoDataFrame(\n",
    "    weeplace,\n",
    "    geometry=gpd.points_from_xy(weeplace.lon, weeplace.lat, crs=4326),\n",
    "    crs=4326,\n",
    ")\n",
    "weeplace.head(3)"
   ]
  },
  {
   "cell_type": "code",
   "execution_count": 439,
   "metadata": {},
   "outputs": [],
   "source": [
    "# # Toronto\n",
    "# CRS = 7991\n",
    "# noise = None\n",
    "# figures = \"../figures/toronto\"\n",
    "# output = \"../output/toronto\"\n",
    "# if noise:\n",
    "#     figures += f\"/noise/{noise}\"\n",
    "#     output += f\"/noise/{noise}\"\n",
    "# rx, ry = 4000, 4000\n",
    "# sx, sy = 100000 // rx, 100000 // ry\n",
    "# query = \"(lat.between(43, 43.9) & lon.between(-80, -78.775))\""
   ]
  },
  {
   "cell_type": "code",
   "execution_count": 528,
   "metadata": {
    "tags": [
     "parameters"
    ]
   },
   "outputs": [],
   "source": [
    "# London\n",
    "CRS = 27700\n",
    "noise = 250\n",
    "figures = \"../figures/london\"\n",
    "output = \"../output/london\"\n",
    "if noise:\n",
    "    figures += f\"/noise/{noise}\"\n",
    "    output += f\"/noise/{noise}\"\n",
    "rx, ry = 4000, 4000\n",
    "sx, sy = 100000 // rx, 100000 // ry\n",
    "query = \"(lat.between(51, 51.9) & lon.between(-0.9, 0.515))\""
   ]
  },
  {
   "cell_type": "code",
   "execution_count": 529,
   "metadata": {},
   "outputs": [],
   "source": [
    "Path(figures).mkdir(parents=True, exist_ok=True)\n",
    "Path(output).mkdir(parents=True, exist_ok=True)"
   ]
  },
  {
   "cell_type": "code",
   "execution_count": 530,
   "metadata": {},
   "outputs": [
    {
     "data": {
      "text/plain": [
       "(476395.0585702218, 124007.08630992024, 576216.7090930005, 224118.11997986102)"
      ]
     },
     "execution_count": 530,
     "metadata": {},
     "output_type": "execute_result"
    },
    {
     "data": {
      "image/png": "[encoded data removed]",
      "text/plain": [
       "<Figure size 640x480 with 1 Axes>"
      ]
     },
     "metadata": {},
     "output_type": "display_data"
    }
   ],
   "source": [
    "weeplace.query(query).plot()\n",
    "data = weeplace.query(query).copy()\n",
    "data_crs = weeplace.query(query).to_crs(CRS)\n",
    "minx, miny, maxx, maxy = data_crs.union_all().envelope.bounds\n",
    "data_crs.union_all().envelope.bounds"
   ]
  },
  {
   "cell_type": "code",
   "execution_count": 531,
   "metadata": {},
   "outputs": [],
   "source": [
    "if noise:\n",
    "    data_crs = add_noise(data_crs, noise, seed=11)"
   ]
  },
  {
   "cell_type": "code",
   "execution_count": 532,
   "metadata": {},
   "outputs": [
    {
     "name": "stdout",
     "output_type": "stream",
     "text": [
      "100000.0\n",
      "100000.0\n"
     ]
    }
   ],
   "source": [
    "# London\n",
    "tminx = np.floor(minx / rx) * rx\n",
    "tmaxx = np.floor(maxx / rx) * rx\n",
    "tminy = np.floor(miny / ry) * ry\n",
    "tmaxy = np.floor(maxy / ry) * ry\n",
    "\n",
    "# Toronto\n",
    "if \"toronto\" in figures:\n",
    "    tminx = np.floor(minx / rx) * rx\n",
    "    tmaxx = np.ceil(maxx / rx) * rx\n",
    "    tminy = np.floor(miny / ry) * ry\n",
    "    tmaxy = np.floor(maxy / ry) * ry\n",
    "\n",
    "print(tmaxx - tminx)\n",
    "print(tmaxy - tminy)"
   ]
  },
  {
   "cell_type": "code",
   "execution_count": 533,
   "metadata": {},
   "outputs": [],
   "source": [
    "area = Polygon([(tminx, tminy), (tmaxx, tminy), (tmaxx, tmaxy), (tminx, tmaxy)])\n",
    "area_wgs84 = gpd.GeoDataFrame(geometry=[area], crs=CRS).to_crs(4326).geometry[0]\n",
    "\n",
    "grid = generate_grid(tminx, tmaxx, tminy, tmaxy, stepx=rx, stepy=ry, crs=CRS)"
   ]
  },
  {
   "cell_type": "code",
   "execution_count": 534,
   "metadata": {},
   "outputs": [],
   "source": [
    "data_with_grid = (\n",
    "    data_crs.sjoin(grid)\n",
    "    .groupby([\"x\", \"y\"])[\"userid\"]\n",
    "    .agg([\"count\", \"nunique\"])\n",
    "    .reset_index()\n",
    ")"
   ]
  },
  {
   "cell_type": "code",
   "execution_count": 535,
   "metadata": {},
   "outputs": [],
   "source": [
    "enriched_grid = grid.merge(data_with_grid, on=[\"x\", \"y\"], how=\"left\").fillna(0)\n",
    "enriched_grid[\"bin\"] = enriched_grid[\"count\"].apply(lambda x: 1 if x > 0 else 0)"
   ]
  },
  {
   "cell_type": "code",
   "execution_count": 536,
   "metadata": {},
   "outputs": [
    {
     "data": {
      "image/png": "[encoded data removed]",
      "text/plain": [
       "<Figure size 900x900 with 1 Axes>"
      ]
     },
     "metadata": {},
     "output_type": "display_data"
    }
   ],
   "source": [
    "f_g = plt.figure(figsize=(6, 6), dpi=150)\n",
    "a_g = f_g.add_axes([0, 0, 1, 1], frameon=False, xticks=[], yticks=[])\n",
    "enriched_grid.plot(column=\"bin\", cmap=\"binary\", ax=a_g)\n",
    "a_g.margins(0)\n",
    "a_g.axis(\"off\")\n",
    "a_g.set_facecolor(\"white\")\n",
    "\n",
    "f_g.savefig(\n",
    "    f\"{figures}/grid_{rx}_{ry}.png\",\n",
    "    facecolor=\"white\",\n",
    "    pad_inches=0,\n",
    "    metadata=config[\"metadata\"],\n",
    ")"
   ]
  },
  {
   "cell_type": "code",
   "execution_count": 537,
   "metadata": {},
   "outputs": [],
   "source": [
    "enriched_grid.to_file(f\"{output}/grid_{rx}_{ry}_enriched.geojson\")"
   ]
  },
  {
   "cell_type": "code",
   "execution_count": 538,
   "metadata": {},
   "outputs": [
    {
     "data": {
      "text/html": [
       "<div>\n",
       "<style scoped>\n",
       "    .dataframe tbody tr th:only-of-type {\n",
       "        vertical-align: middle;\n",
       "    }\n",
       "\n",
       "    .dataframe tbody tr th {\n",
       "        vertical-align: top;\n",
       "    }\n",
       "\n",
       "    .dataframe thead th {\n",
       "        text-align: right;\n",
       "    }\n",
       "</style>\n",
       "<table border=\"1\" class=\"dataframe\">\n",
       "  <thead>\n",
       "    <tr style=\"text-align: right;\">\n",
       "      <th></th>\n",
       "      <th>geometry</th>\n",
       "      <th>x</th>\n",
       "      <th>y</th>\n",
       "      <th>count</th>\n",
       "      <th>nunique</th>\n",
       "      <th>bin</th>\n",
       "    </tr>\n",
       "  </thead>\n",
       "  <tbody>\n",
       "    <tr>\n",
       "      <th>0</th>\n",
       "      <td>POLYGON ((476000 124000, 480000 124000, 480000...</td>\n",
       "      <td>0</td>\n",
       "      <td>0</td>\n",
       "      <td>1.0</td>\n",
       "      <td>1.0</td>\n",
       "      <td>1</td>\n",
       "    </tr>\n",
       "    <tr>\n",
       "      <th>1</th>\n",
       "      <td>POLYGON ((476000 128000, 480000 128000, 480000...</td>\n",
       "      <td>0</td>\n",
       "      <td>1</td>\n",
       "      <td>0.0</td>\n",
       "      <td>0.0</td>\n",
       "      <td>0</td>\n",
       "    </tr>\n",
       "    <tr>\n",
       "      <th>2</th>\n",
       "      <td>POLYGON ((476000 132000, 480000 132000, 480000...</td>\n",
       "      <td>0</td>\n",
       "      <td>2</td>\n",
       "      <td>0.0</td>\n",
       "      <td>0.0</td>\n",
       "      <td>0</td>\n",
       "    </tr>\n",
       "    <tr>\n",
       "      <th>3</th>\n",
       "      <td>POLYGON ((476000 136000, 480000 136000, 480000...</td>\n",
       "      <td>0</td>\n",
       "      <td>3</td>\n",
       "      <td>0.0</td>\n",
       "      <td>0.0</td>\n",
       "      <td>0</td>\n",
       "    </tr>\n",
       "    <tr>\n",
       "      <th>4</th>\n",
       "      <td>POLYGON ((476000 140000, 480000 140000, 480000...</td>\n",
       "      <td>0</td>\n",
       "      <td>4</td>\n",
       "      <td>0.0</td>\n",
       "      <td>0.0</td>\n",
       "      <td>0</td>\n",
       "    </tr>\n",
       "    <tr>\n",
       "      <th>...</th>\n",
       "      <td>...</td>\n",
       "      <td>...</td>\n",
       "      <td>...</td>\n",
       "      <td>...</td>\n",
       "      <td>...</td>\n",
       "      <td>...</td>\n",
       "    </tr>\n",
       "    <tr>\n",
       "      <th>620</th>\n",
       "      <td>POLYGON ((572000 204000, 576000 204000, 576000...</td>\n",
       "      <td>24</td>\n",
       "      <td>20</td>\n",
       "      <td>5.0</td>\n",
       "      <td>4.0</td>\n",
       "      <td>1</td>\n",
       "    </tr>\n",
       "    <tr>\n",
       "      <th>621</th>\n",
       "      <td>POLYGON ((572000 208000, 576000 208000, 576000...</td>\n",
       "      <td>24</td>\n",
       "      <td>21</td>\n",
       "      <td>14.0</td>\n",
       "      <td>2.0</td>\n",
       "      <td>1</td>\n",
       "    </tr>\n",
       "    <tr>\n",
       "      <th>622</th>\n",
       "      <td>POLYGON ((572000 212000, 576000 212000, 576000...</td>\n",
       "      <td>24</td>\n",
       "      <td>22</td>\n",
       "      <td>0.0</td>\n",
       "      <td>0.0</td>\n",
       "      <td>0</td>\n",
       "    </tr>\n",
       "    <tr>\n",
       "      <th>623</th>\n",
       "      <td>POLYGON ((572000 216000, 576000 216000, 576000...</td>\n",
       "      <td>24</td>\n",
       "      <td>23</td>\n",
       "      <td>0.0</td>\n",
       "      <td>0.0</td>\n",
       "      <td>0</td>\n",
       "    </tr>\n",
       "    <tr>\n",
       "      <th>624</th>\n",
       "      <td>POLYGON ((572000 220000, 576000 220000, 576000...</td>\n",
       "      <td>24</td>\n",
       "      <td>24</td>\n",
       "      <td>0.0</td>\n",
       "      <td>0.0</td>\n",
       "      <td>0</td>\n",
       "    </tr>\n",
       "  </tbody>\n",
       "</table>\n",
       "<p>625 rows × 6 columns</p>\n",
       "</div>"
      ],
      "text/plain": [
       "                                              geometry   x   y  count  \\\n",
       "0    POLYGON ((476000 124000, 480000 124000, 480000...   0   0    1.0   \n",
       "1    POLYGON ((476000 128000, 480000 128000, 480000...   0   1    0.0   \n",
       "2    POLYGON ((476000 132000, 480000 132000, 480000...   0   2    0.0   \n",
       "3    POLYGON ((476000 136000, 480000 136000, 480000...   0   3    0.0   \n",
       "4    POLYGON ((476000 140000, 480000 140000, 480000...   0   4    0.0   \n",
       "..                                                 ...  ..  ..    ...   \n",
       "620  POLYGON ((572000 204000, 576000 204000, 576000...  24  20    5.0   \n",
       "621  POLYGON ((572000 208000, 576000 208000, 576000...  24  21   14.0   \n",
       "622  POLYGON ((572000 212000, 576000 212000, 576000...  24  22    0.0   \n",
       "623  POLYGON ((572000 216000, 576000 216000, 576000...  24  23    0.0   \n",
       "624  POLYGON ((572000 220000, 576000 220000, 576000...  24  24    0.0   \n",
       "\n",
       "     nunique  bin  \n",
       "0        1.0    1  \n",
       "1        0.0    0  \n",
       "2        0.0    0  \n",
       "3        0.0    0  \n",
       "4        0.0    0  \n",
       "..       ...  ...  \n",
       "620      4.0    1  \n",
       "621      2.0    1  \n",
       "622      0.0    0  \n",
       "623      0.0    0  \n",
       "624      0.0    0  \n",
       "\n",
       "[625 rows x 6 columns]"
      ]
     },
     "execution_count": 538,
     "metadata": {},
     "output_type": "execute_result"
    }
   ],
   "source": [
    "enriched_grid"
   ]
  },
  {
   "cell_type": "code",
   "execution_count": 539,
   "metadata": {},
   "outputs": [],
   "source": [
    "enriched_grid[\"x\"] += 1\n",
    "enriched_grid[\"y\"] += 1"
   ]
  },
  {
   "cell_type": "code",
   "execution_count": 540,
   "metadata": {},
   "outputs": [
    {
     "data": {
      "image/png": "[encoded data removed]",
      "text/plain": [
       "<Figure size 25x25 with 1 Axes>"
      ]
     },
     "metadata": {},
     "output_type": "display_data"
    },
    {
     "data": {
      "image/png": "[encoded data removed]",
      "text/plain": [
       "<Figure size 25x25 with 1 Axes>"
      ]
     },
     "metadata": {},
     "output_type": "display_data"
    }
   ],
   "source": [
    "mx = rotate_90_cc(to_matrix(enriched_grid, shape=(sx, sy), value=\"bin\"))\n",
    "\n",
    "f_b, _ = plot_heatmap(mx, figsize=(sx, sy), dpi=1, cmap=\"binary\")\n",
    "f_b.savefig(\n",
    "    f\"{figures}/activity_binary_{rx}_{ry}.png\",\n",
    "    facecolor=\"white\",\n",
    "    pad_inches=0,\n",
    "    metadata=config[\"metadata\"],\n",
    ")\n",
    "f_b, _ = plot_heatmap(mx, figsize=(sx / 100, sy / 100), dpi=100, cmap=\"binary\")\n",
    "f_b.savefig(\n",
    "    f\"{figures}/activity_binary_{rx}_{ry}_dpi_fixed.png\",\n",
    "    facecolor=\"white\",\n",
    "    pad_inches=0,\n",
    "    metadata=config[\"metadata\"],\n",
    ")"
   ]
  },
  {
   "cell_type": "code",
   "execution_count": 541,
   "metadata": {},
   "outputs": [],
   "source": [
    "large = area.buffer(100000).envelope\n",
    "large_crs = gpd.GeoDataFrame(geometry=[large], crs=CRS).geometry[0]\n",
    "large_wgs84 = gpd.GeoDataFrame(geometry=[large], crs=CRS).to_crs(4326).geometry[0]"
   ]
  },
  {
   "cell_type": "code",
   "execution_count": 542,
   "metadata": {},
   "outputs": [
    {
     "data": {
      "text/plain": [
       "18"
      ]
     },
     "execution_count": 542,
     "metadata": {},
     "output_type": "execute_result"
    }
   ],
   "source": [
    "\"../output/toronto/noise/1000\".index(\"noise\")"
   ]
  },
  {
   "cell_type": "code",
   "execution_count": 543,
   "metadata": {},
   "outputs": [
    {
     "data": {
      "text/plain": [
       "'../output/toronto'"
      ]
     },
     "execution_count": 543,
     "metadata": {},
     "output_type": "execute_result"
    }
   ],
   "source": [
    "\"../output/toronto/noise/1000\"[: \"../output/toronto/noise/1000\".index(\"/noise\")]"
   ]
  },
  {
   "cell_type": "code",
   "execution_count": 544,
   "metadata": {},
   "outputs": [],
   "source": [
    "try:\n",
    "    m = re.match(\n",
    "        # f\"({output})(?:/noise/[0-9]+)?(/landuse_crs\\\\.pickle)\",\n",
    "        f\"({output[:output.index(\"/noise\")]})(.*)(/landuse_crs\\\\.pickle)\",\n",
    "        f\"{output}/landuse_crs.pickle\",\n",
    "    )\n",
    "    pickle_path = m.group(1) + m.group(3)\n",
    "    landuse = pd.read_pickle(pickle_path)\n",
    "except FileNotFoundError:\n",
    "    landuse = ox.features_from_polygon(\n",
    "        large_wgs84, tags={\"landuse\": [\"residential\", \"retail\", \"industrial\"]}\n",
    "    )\n",
    "    landuse = landuse[landuse[\"geometry\"].geom_type == \"Polygon\"].copy()\n",
    "    landuse.to_crs(CRS, inplace=True)\n",
    "    landuse.to_pickle(f\"{output}/landuse_crs.pickle\")"
   ]
  },
  {
   "cell_type": "code",
   "execution_count": 545,
   "metadata": {},
   "outputs": [],
   "source": [
    "if not Path(f\"{figures}/landuse.png\").exists():\n",
    "    f_lu = plt.figure(figsize=(6, 6), dpi=150)\n",
    "    a_lu = f_lu.add_axes([0, 0, 1, 1], frameon=False, xticks=[], yticks=[])\n",
    "    gpd.clip(landuse, area).plot(ax=a_lu, color=\"black\")\n",
    "    a_lu.margins(0)\n",
    "    a_lu.axis(\"off\")\n",
    "    a_lu.set_facecolor(\"white\")\n",
    "\n",
    "    f_lu.savefig(\n",
    "        f\"{figures}/landuse.png\",\n",
    "        facecolor=\"white\",\n",
    "        pad_inches=0,\n",
    "        metadata=config[\"metadata\"],\n",
    "    )"
   ]
  },
  {
   "cell_type": "code",
   "execution_count": 546,
   "metadata": {},
   "outputs": [
    {
     "name": "stdout",
     "output_type": "stream",
     "text": [
      "75.0 75.0\n"
     ]
    }
   ],
   "source": [
    "W, H = calculate_image_size(large_crs.bounds, rx, ry)\n",
    "print(W, H)"
   ]
  },
  {
   "cell_type": "code",
   "execution_count": 547,
   "metadata": {},
   "outputs": [
    {
     "data": {
      "image/png": "[encoded data removed]",
      "text/plain": [
       "<Figure size 75x75 with 1 Axes>"
      ]
     },
     "metadata": {},
     "output_type": "display_data"
    }
   ],
   "source": [
    "fig = plt.figure(figsize=(W, H), dpi=1)\n",
    "ax = fig.add_axes([0, 0, 1, 1], frameon=False, xticks=[], yticks=[])\n",
    "gpd.GeoDataFrame(geometry=[large_crs], crs=CRS).plot(\n",
    "    color=\"white\", aspect=None, ax=ax, zorder=1\n",
    ")\n",
    "landuse.plot(color=\"#000000\", aspect=None, ax=ax, zorder=5)\n",
    "ax.margins(0)\n",
    "ax.axis(\"off\")\n",
    "ax.set_facecolor(\"white\")\n",
    "fig.patch.set_visible(False)\n",
    "\n",
    "fig.savefig(\n",
    "    f\"{figures}/large_{rx}_{ry}.png\",\n",
    "    facecolor=\"white\",\n",
    "    pad_inches=0,\n",
    "    metadata=config[\"metadata\"],\n",
    ")"
   ]
  },
  {
   "cell_type": "code",
   "execution_count": 548,
   "metadata": {},
   "outputs": [
    {
     "name": "stdout",
     "output_type": "stream",
     "text": [
      "(25, 25)\n"
     ]
    },
    {
     "data": {
      "image/png": "[encoded data removed]",
      "text/plain": [
       "<Figure size 75x75 with 1 Axes>"
      ]
     },
     "metadata": {},
     "output_type": "display_data"
    }
   ],
   "source": [
    "large_image = cv2.imread(f\"{figures}/large_{rx}_{ry}.png\")\n",
    "template = cv2.imread(f\"{figures}/activity_binary_{rx}_{ry}.png\")\n",
    "\n",
    "method = cv2.TM_CCOEFF_NORMED\n",
    "result = cv2.matchTemplate(large_image, template, method)\n",
    "\n",
    "min_val, max_val, min_loc, max_loc = cv2.minMaxLoc(result)\n",
    "\n",
    "# Step 2: Get the size of the template. This is the same size as the match.\n",
    "trows, tcols = template.shape[:2]\n",
    "\n",
    "# If the method is TM_SQDIFF or TM_SQDIFF_NORMED, take minimum\n",
    "if method in [cv2.TM_SQDIFF, cv2.TM_SQDIFF_NORMED]:\n",
    "    top_left = min_loc\n",
    "else:\n",
    "    top_left = max_loc\n",
    "bottom_right = (top_left[0] + trows, top_left[1] + tcols)\n",
    "print(top_left)\n",
    "\n",
    "# Step 3: Draw the rectangle on large_image\n",
    "cv2.rectangle(large_image, top_left, bottom_right, (0, 0, 255), 2)\n",
    "\n",
    "fig2 = plt.figure(figsize=(W / 100, H / 100), dpi=100)\n",
    "ax2 = fig2.add_axes([0, 0, 1, 1], frameon=False, xticks=[], yticks=[])\n",
    "ax2.imshow(large_image)\n",
    "ax2.axis(\"off\")\n",
    "ax2.margins(0)\n",
    "fig2.patch.set_visible(False)\n",
    "fig2.savefig(\n",
    "    f\"{figures}/location_{rx}_{ry}.png\",\n",
    "    facecolor=\"white\",\n",
    "    pad_inches=0,\n",
    "    metadata=config[\"metadata\"],\n",
    ")"
   ]
  },
  {
   "cell_type": "code",
   "execution_count": 549,
   "metadata": {},
   "outputs": [
    {
     "name": "stdout",
     "output_type": "stream",
     "text": [
      "576000.0 124000.0\n"
     ]
    }
   ],
   "source": [
    "startx, starty = calculate_top_left_coordinates(area, *top_left, rx, ry)\n",
    "print(startx, starty)\n",
    "\n",
    "with open(f\"{output}/anchor_{rx}_{ry}.yaml\", \"w\") as fp:\n",
    "    yaml.dump(\n",
    "        {\n",
    "            \"top_left\": {\"x\": round(startx, 3), \"y\": round(starty, 3)},\n",
    "            \"area\": {\n",
    "                \"bounds\": {\n",
    "                    \"minx\": area.bounds[0],\n",
    "                    \"maxx\": area.bounds[2],\n",
    "                    \"miny\": area.bounds[1],\n",
    "                    \"maxy\": area.bounds[3],\n",
    "                }\n",
    "            },\n",
    "        },\n",
    "        fp,\n",
    "    )"
   ]
  }
 ],
 "metadata": {
  "kernelspec": {
   "display_name": "reverse-engineering-yjmob100k-grid-lm2EsvD6-py3.12",
   "language": "python",
   "name": "python3"
  },
  "language_info": {
   "codemirror_mode": {
    "name": "ipython",
    "version": 3
   },
   "file_extension": ".py",
   "mimetype": "text/x-python",
   "name": "python",
   "nbconvert_exporter": "python",
   "pygments_lexer": "ipython3",
   "version": "3.12.6"
  }
 },
 "nbformat": 4,
 "nbformat_minor": 2
}
