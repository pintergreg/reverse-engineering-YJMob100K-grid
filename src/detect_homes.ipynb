{
 "cells": [
  {
   "cell_type": "markdown",
   "metadata": {},
   "source": [
    "# Home detection\n",
    "\n",
    "Select the evening/nighttime interval that is considered home-time.\n",
    "Time dimension is discretized into 30 minutes intervals and indexed from 0 to 47.\n",
    "The home location (cell) is defined as the cell where a user appears the most between 20:00 (40) and 08:00 (16).  "
   ]
  },
  {
   "cell_type": "code",
   "execution_count": 1,
   "metadata": {},
   "outputs": [],
   "source": [
    "import pandas as pd\n",
    "\n",
    "\n",
    "def determine_most_frequent_cell(x: pd.DataFrame) -> tuple[int, int]:\n",
    "    count = (\n",
    "        x.groupby([\"x\", \"y\"])[\"count\"]\n",
    "        .sum()\n",
    "        .reset_index()\n",
    "        .sort_values(\"count\", ascending=False)\n",
    "        .reset_index(drop=True)\n",
    "    )\n",
    "    most = count[\"x\"][0], count[\"y\"][0]\n",
    "    return most\n",
    "\n",
    "\n",
    "def detemmine_homes(data: pd.DataFrame) -> pd.DataFrame:\n",
    "    records = []\n",
    "    for uid, d in data.groupby(data[\"uid\"]):\n",
    "        records.append([uid, *determine_most_frequent_cell(d)])\n",
    "    return pd.DataFrame.from_records(records, columns=[\"uid\", \"x\", \"y\"])"
   ]
  },
  {
   "cell_type": "code",
   "execution_count": 2,
   "metadata": {
    "tags": [
     "parameters"
    ]
   },
   "outputs": [],
   "source": [
    "mobility_data = \"../data/yjmob100k\"\n",
    "output = \"../output\""
   ]
  },
  {
   "cell_type": "code",
   "execution_count": 3,
   "metadata": {},
   "outputs": [],
   "source": [
    "try:\n",
    "    loc_count = pd.read_csv(f\"{output}/loc_count.csv\", engine=\"pyarrow\")\n",
    "except FileNotFoundError:\n",
    "    data = pd.read_csv(\n",
    "        f\"{mobility_data}/yjmob100k-dataset1.csv\",\n",
    "        engine=\"pyarrow\",\n",
    "    )\n",
    "    loc_count = data.groupby([\"uid\", \"t\", \"x\", \"y\"])[\"d\"].count().reset_index()\n",
    "    loc_count.rename({\"d\": \"count\"}, axis=1, inplace=True)\n",
    "    loc_count.to_csv(f\"{output}/loc_count.csv\", index=False)"
   ]
  },
  {
   "cell_type": "code",
   "execution_count": 4,
   "metadata": {},
   "outputs": [],
   "source": [
    "evening = loc_count.query(\"t < 16 | t > 42\").copy()"
   ]
  },
  {
   "cell_type": "code",
   "execution_count": 5,
   "metadata": {},
   "outputs": [],
   "source": [
    "try:\n",
    "    homes = pd.read_csv(f\"{output}/homes.csv\", engine=\"pyarrow\")\n",
    "except FileNotFoundError:\n",
    "    homes = detemmine_homes(evening)\n",
    "    homes.to_csv(f\"{output}/homes.csv\", index=False)"
   ]
  },
  {
   "cell_type": "markdown",
   "metadata": {},
   "source": [
    "## Optionally estimate workplaces"
   ]
  },
  {
   "cell_type": "code",
   "execution_count": 6,
   "metadata": {},
   "outputs": [],
   "source": [
    "work_hours = loc_count.query(\"t > 18 & t < 36\").copy()"
   ]
  },
  {
   "cell_type": "code",
   "execution_count": 7,
   "metadata": {},
   "outputs": [],
   "source": [
    "try:\n",
    "    workplaces = pd.read_csv(f\"{output}/workplaces.csv\", engine=\"pyarrow\")\n",
    "except FileNotFoundError:\n",
    "    workplaces = detemmine_homes(work_hours)\n",
    "    workplaces.to_csv(f\"{output}/workplaces.csv\", index=False)"
   ]
  },
  {
   "cell_type": "code",
   "execution_count": null,
   "metadata": {},
   "outputs": [],
   "source": []
  }
 ],
 "metadata": {
  "kernelspec": {
   "display_name": "decipher-humob2023-spatial-dimension-lm2EsvD6-py3.11",
   "language": "python",
   "name": "python3"
  },
  "language_info": {
   "codemirror_mode": {
    "name": "ipython",
    "version": 3
   },
   "file_extension": ".py",
   "mimetype": "text/x-python",
   "name": "python",
   "nbconvert_exporter": "python",
   "pygments_lexer": "ipython3",
   "version": "3.11.8"
  }
 },
 "nbformat": 4,
 "nbformat_minor": 2
}
