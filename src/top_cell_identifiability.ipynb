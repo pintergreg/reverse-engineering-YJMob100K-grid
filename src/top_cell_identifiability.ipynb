{
 "cells": [
  {
   "cell_type": "code",
   "execution_count": 1,
   "metadata": {
    "metadata": {}
   },
   "outputs": [],
   "source": [
    "import re\n",
    "\n",
    "import pandas as pd"
   ]
  },
  {
   "cell_type": "code",
   "execution_count": 2,
   "metadata": {
    "metadata": {}
   },
   "outputs": [],
   "source": [
    "ucc = pd.read_csv(\"../output/user_cell_count.csv\", engine=\"pyarrow\")"
   ]
  },
  {
   "cell_type": "code",
   "execution_count": 3,
   "metadata": {
    "metadata": {}
   },
   "outputs": [],
   "source": [
    "def top4(data: pd.DataFrame) -> list[int]:\n",
    "    top4 = data.sort_values(\"count\", ascending=False).head(4)\n",
    "    return tuple(zip(top4[\"x\"], top4[\"y\"]))\n",
    "\n",
    "\n",
    "# ucc[:10000].groupby(\"uid\").apply(top4, include_groups=False)\n",
    "top4_lists = ucc.groupby(\"uid\").apply(top4, include_groups=False)"
   ]
  },
  {
   "cell_type": "code",
   "execution_count": 4,
   "metadata": {
    "metadata": {}
   },
   "outputs": [
    {
     "data": {
      "text/html": [
       "<div>\n",
       "<style scoped>\n",
       "    .dataframe tbody tr th:only-of-type {\n",
       "        vertical-align: middle;\n",
       "    }\n",
       "\n",
       "    .dataframe tbody tr th {\n",
       "        vertical-align: top;\n",
       "    }\n",
       "\n",
       "    .dataframe thead th {\n",
       "        text-align: right;\n",
       "    }\n",
       "</style>\n",
       "<table border=\"1\" class=\"dataframe\">\n",
       "  <thead>\n",
       "    <tr style=\"text-align: right;\">\n",
       "      <th></th>\n",
       "      <th>uid</th>\n",
       "      <th>d</th>\n",
       "      <th>t</th>\n",
       "      <th>x</th>\n",
       "      <th>y</th>\n",
       "    </tr>\n",
       "  </thead>\n",
       "  <tbody>\n",
       "    <tr>\n",
       "      <th>0</th>\n",
       "      <td>0</td>\n",
       "      <td>0</td>\n",
       "      <td>1</td>\n",
       "      <td>79</td>\n",
       "      <td>86</td>\n",
       "    </tr>\n",
       "    <tr>\n",
       "      <th>1</th>\n",
       "      <td>0</td>\n",
       "      <td>0</td>\n",
       "      <td>2</td>\n",
       "      <td>79</td>\n",
       "      <td>86</td>\n",
       "    </tr>\n",
       "    <tr>\n",
       "      <th>2</th>\n",
       "      <td>0</td>\n",
       "      <td>0</td>\n",
       "      <td>8</td>\n",
       "      <td>77</td>\n",
       "      <td>86</td>\n",
       "    </tr>\n",
       "  </tbody>\n",
       "</table>\n",
       "</div>"
      ],
      "text/plain": [
       "   uid  d  t   x   y\n",
       "0    0  0  1  79  86\n",
       "1    0  0  2  79  86\n",
       "2    0  0  8  77  86"
      ]
     },
     "execution_count": 4,
     "metadata": {},
     "output_type": "execute_result"
    }
   ],
   "source": [
    "data = pd.read_csv(\"../data/yjmob100k/yjmob100k-dataset1.csv\", engine=\"pyarrow\")\n",
    "data.head(3)"
   ]
  },
  {
   "cell_type": "code",
   "execution_count": 5,
   "metadata": {
    "metadata": {}
   },
   "outputs": [],
   "source": [
    "def create_rescale_lookup(k: int = 2) -> pd.DataFrame:\n",
    "    lookup = {}\n",
    "    for idx, x in enumerate(range(200)):\n",
    "        for idy, y in enumerate(range(200)):\n",
    "            lookup[(x + 1, y + 1)] = ((x // k) + 1, (y // k) + 1)\n",
    "    return lookup\n",
    "\n",
    "\n",
    "r2 = create_rescale_lookup(2)\n",
    "r4 = create_rescale_lookup(4)\n",
    "r8 = create_rescale_lookup(8)\n",
    "r16 = create_rescale_lookup(16)\n",
    "r32 = create_rescale_lookup(32)"
   ]
  },
  {
   "cell_type": "code",
   "execution_count": 6,
   "metadata": {
    "metadata": {}
   },
   "outputs": [],
   "source": [
    "try:\n",
    "    ucc_r2 = pd.read_csv(\"../output/user_cell_count_r2.csv\", engine=\"pyarrow\")\n",
    "except FileNotFoundError:\n",
    "    data_r2 = data.copy()\n",
    "\n",
    "    data_r2[\"x\"] = (data_r2[\"x\"] // 2) + 1\n",
    "    data_r2[\"y\"] = (data_r2[\"y\"] // 2) + 1\n",
    "\n",
    "    ucc_r2 = data_r2.groupby([\"uid\", \"x\", \"y\"])[\"t\"].count().reset_index()\n",
    "    ucc_r2.columns = [\"uid\", \"x\", \"y\", \"count\"]\n",
    "    ucc_r2.to_csv(\"../output/user_cell_count_r2.csv\", index=False)"
   ]
  },
  {
   "cell_type": "code",
   "execution_count": 7,
   "metadata": {
    "metadata": {}
   },
   "outputs": [],
   "source": [
    "try:\n",
    "    ucc_r4 = pd.read_csv(\"../output/user_cell_count_r4.csv\", engine=\"pyarrow\")\n",
    "except FileNotFoundError:\n",
    "    data_r4 = data.copy()\n",
    "\n",
    "    data_r4[\"x\"] = (data_r4[\"x\"] // 4) + 1\n",
    "    data_r4[\"y\"] = (data_r4[\"y\"] // 4) + 1\n",
    "\n",
    "    ucc_r4 = data_r4.groupby([\"uid\", \"x\", \"y\"])[\"t\"].count().reset_index()\n",
    "    ucc_r4.columns = [\"uid\", \"x\", \"y\", \"count\"]\n",
    "    ucc_r4.to_csv(\"../output/user_cell_count_r4.csv\", index=False)"
   ]
  },
  {
   "cell_type": "code",
   "execution_count": 8,
   "metadata": {
    "metadata": {}
   },
   "outputs": [],
   "source": [
    "try:\n",
    "    ucc_r8 = pd.read_csv(\"../output/user_cell_count_r8.csv\", engine=\"pyarrow\")\n",
    "except FileNotFoundError:\n",
    "    data_r8 = data.copy()\n",
    "\n",
    "    data_r8[\"x\"] = (data_r8[\"x\"] // 8) + 1\n",
    "    data_r8[\"y\"] = (data_r8[\"y\"] // 8) + 1\n",
    "\n",
    "    ucc_r8 = data_r8.groupby([\"uid\", \"x\", \"y\"])[\"t\"].count().reset_index()\n",
    "    ucc_r8.columns = [\"uid\", \"x\", \"y\", \"count\"]\n",
    "    ucc_r8.to_csv(\"../output/user_cell_count_r8.csv\", index=False)"
   ]
  },
  {
   "cell_type": "code",
   "execution_count": 9,
   "metadata": {
    "metadata": {}
   },
   "outputs": [],
   "source": [
    "def foo(x: list, lookup: dict[tuple[int, int], tuple[int, int]]) -> int:\n",
    "    return len(set([lookup[i] for i in x]))\n",
    "\n",
    "\n",
    "r2_idc = top4_lists.apply(lambda x: foo(x, r2)).reset_index()\n",
    "r2_idc.columns = [\"uid\", \"r2_identifiable_cell_count\"]\n",
    "r4_idc = top4_lists.apply(lambda x: foo(x, r4)).reset_index()\n",
    "r4_idc.columns = [\"uid\", \"r4_identifiable_cell_count\"]\n",
    "r8_idc = top4_lists.apply(lambda x: foo(x, r8)).reset_index()\n",
    "r8_idc.columns = [\"uid\", \"r8_identifiable_cell_count\"]\n",
    "r16_idc = top4_lists.apply(lambda x: foo(x, r16)).reset_index()\n",
    "r16_idc.columns = [\"uid\", \"r16_identifiable_cell_count\"]\n",
    "r32_idc = top4_lists.apply(lambda x: foo(x, r32)).reset_index()\n",
    "r32_idc.columns = [\"uid\", \"r32_identifiable_cell_count\"]"
   ]
  },
  {
   "cell_type": "code",
   "execution_count": 10,
   "metadata": {
    "metadata": {}
   },
   "outputs": [
    {
     "data": {
      "text/html": [
       "<div>\n",
       "<style scoped>\n",
       "    .dataframe tbody tr th:only-of-type {\n",
       "        vertical-align: middle;\n",
       "    }\n",
       "\n",
       "    .dataframe tbody tr th {\n",
       "        vertical-align: top;\n",
       "    }\n",
       "\n",
       "    .dataframe thead th {\n",
       "        text-align: right;\n",
       "    }\n",
       "</style>\n",
       "<table border=\"1\" class=\"dataframe\">\n",
       "  <thead>\n",
       "    <tr style=\"text-align: right;\">\n",
       "      <th></th>\n",
       "      <th>uid</th>\n",
       "      <th>r2_identifiable_cell_count</th>\n",
       "      <th>r4_identifiable_cell_count</th>\n",
       "      <th>r8_identifiable_cell_count</th>\n",
       "      <th>r16_identifiable_cell_count</th>\n",
       "      <th>r32_identifiable_cell_count</th>\n",
       "    </tr>\n",
       "  </thead>\n",
       "  <tbody>\n",
       "    <tr>\n",
       "      <th>0</th>\n",
       "      <td>0</td>\n",
       "      <td>4</td>\n",
       "      <td>3</td>\n",
       "      <td>3</td>\n",
       "      <td>3</td>\n",
       "      <td>2</td>\n",
       "    </tr>\n",
       "    <tr>\n",
       "      <th>1</th>\n",
       "      <td>1</td>\n",
       "      <td>3</td>\n",
       "      <td>3</td>\n",
       "      <td>2</td>\n",
       "      <td>1</td>\n",
       "      <td>1</td>\n",
       "    </tr>\n",
       "    <tr>\n",
       "      <th>2</th>\n",
       "      <td>2</td>\n",
       "      <td>4</td>\n",
       "      <td>3</td>\n",
       "      <td>2</td>\n",
       "      <td>1</td>\n",
       "      <td>1</td>\n",
       "    </tr>\n",
       "  </tbody>\n",
       "</table>\n",
       "</div>"
      ],
      "text/plain": [
       "   uid  r2_identifiable_cell_count  r4_identifiable_cell_count  \\\n",
       "0    0                           4                           3   \n",
       "1    1                           3                           3   \n",
       "2    2                           4                           3   \n",
       "\n",
       "   r8_identifiable_cell_count  r16_identifiable_cell_count  \\\n",
       "0                           3                            3   \n",
       "1                           2                            1   \n",
       "2                           2                            1   \n",
       "\n",
       "   r32_identifiable_cell_count  \n",
       "0                            2  \n",
       "1                            1  \n",
       "2                            1  "
      ]
     },
     "execution_count": 10,
     "metadata": {},
     "output_type": "execute_result"
    }
   ],
   "source": [
    "m = (\n",
    "    r2_idc.merge(r4_idc, on=\"uid\")\n",
    "    .merge(r8_idc, on=\"uid\")\n",
    "    .merge(r16_idc, on=\"uid\")\n",
    "    .merge(r32_idc, on=\"uid\")\n",
    ")\n",
    "m.head(3)"
   ]
  },
  {
   "cell_type": "code",
   "execution_count": 11,
   "metadata": {
    "metadata": {}
   },
   "outputs": [
    {
     "data": {
      "text/plain": [
       "r2_identifiable_cell_count\n",
       "1      721\n",
       "2    15582\n",
       "3    48228\n",
       "4    35469\n",
       "Name: uid, dtype: int64"
      ]
     },
     "execution_count": 11,
     "metadata": {},
     "output_type": "execute_result"
    }
   ],
   "source": [
    "m.groupby([\"r2_identifiable_cell_count\"])[\"uid\"].count()"
   ]
  },
  {
   "cell_type": "code",
   "execution_count": 12,
   "metadata": {
    "metadata": {}
   },
   "outputs": [
    {
     "data": {
      "text/plain": [
       "r4_identifiable_cell_count\n",
       "1     6247\n",
       "2    38548\n",
       "3    42323\n",
       "4    12882\n",
       "Name: uid, dtype: int64"
      ]
     },
     "execution_count": 12,
     "metadata": {},
     "output_type": "execute_result"
    }
   ],
   "source": [
    "m.groupby([\"r4_identifiable_cell_count\"])[\"uid\"].count()"
   ]
  },
  {
   "cell_type": "code",
   "execution_count": 13,
   "metadata": {
    "metadata": {}
   },
   "outputs": [
    {
     "data": {
      "text/plain": [
       "r8_identifiable_cell_count\n",
       "1    15466\n",
       "2    50987\n",
       "3    28457\n",
       "4     5090\n",
       "Name: uid, dtype: int64"
      ]
     },
     "execution_count": 13,
     "metadata": {},
     "output_type": "execute_result"
    }
   ],
   "source": [
    "m.groupby([\"r8_identifiable_cell_count\"])[\"uid\"].count()"
   ]
  },
  {
   "cell_type": "code",
   "execution_count": 14,
   "metadata": {
    "metadata": {}
   },
   "outputs": [
    {
     "data": {
      "text/html": [
       "<div>\n",
       "<style scoped>\n",
       "    .dataframe tbody tr th:only-of-type {\n",
       "        vertical-align: middle;\n",
       "    }\n",
       "\n",
       "    .dataframe tbody tr th {\n",
       "        vertical-align: top;\n",
       "    }\n",
       "\n",
       "    .dataframe thead th {\n",
       "        text-align: right;\n",
       "    }\n",
       "</style>\n",
       "<table border=\"1\" class=\"dataframe\">\n",
       "  <thead>\n",
       "    <tr style=\"text-align: right;\">\n",
       "      <th></th>\n",
       "      <th>different_cells</th>\n",
       "      <th>r2</th>\n",
       "      <th>r4</th>\n",
       "      <th>r8</th>\n",
       "      <th>r16</th>\n",
       "      <th>r32</th>\n",
       "    </tr>\n",
       "  </thead>\n",
       "  <tbody>\n",
       "    <tr>\n",
       "      <th>3</th>\n",
       "      <td>4</td>\n",
       "      <td>35469</td>\n",
       "      <td>12882</td>\n",
       "      <td>5090</td>\n",
       "      <td>1810</td>\n",
       "      <td>470</td>\n",
       "    </tr>\n",
       "    <tr>\n",
       "      <th>2</th>\n",
       "      <td>3</td>\n",
       "      <td>48228</td>\n",
       "      <td>42323</td>\n",
       "      <td>28457</td>\n",
       "      <td>16752</td>\n",
       "      <td>7438</td>\n",
       "    </tr>\n",
       "    <tr>\n",
       "      <th>1</th>\n",
       "      <td>2</td>\n",
       "      <td>15582</td>\n",
       "      <td>38548</td>\n",
       "      <td>50987</td>\n",
       "      <td>52608</td>\n",
       "      <td>44939</td>\n",
       "    </tr>\n",
       "    <tr>\n",
       "      <th>0</th>\n",
       "      <td>1</td>\n",
       "      <td>721</td>\n",
       "      <td>6247</td>\n",
       "      <td>15466</td>\n",
       "      <td>28830</td>\n",
       "      <td>47153</td>\n",
       "    </tr>\n",
       "  </tbody>\n",
       "</table>\n",
       "</div>"
      ],
      "text/plain": [
       "   different_cells     r2     r4     r8    r16    r32\n",
       "3                4  35469  12882   5090   1810    470\n",
       "2                3  48228  42323  28457  16752   7438\n",
       "1                2  15582  38548  50987  52608  44939\n",
       "0                1    721   6247  15466  28830  47153"
      ]
     },
     "execution_count": 14,
     "metadata": {},
     "output_type": "execute_result"
    }
   ],
   "source": [
    "result = pd.DataFrame(\n",
    "    {\n",
    "        \"different_cells\": range(1, 5),\n",
    "        \"r2\": m.groupby([\"r2_identifiable_cell_count\"])[\"uid\"].count().tolist(),\n",
    "        \"r4\": m.groupby([\"r4_identifiable_cell_count\"])[\"uid\"].count().tolist(),\n",
    "        \"r8\": m.groupby([\"r8_identifiable_cell_count\"])[\"uid\"].count().tolist(),\n",
    "        \"r16\": m.groupby([\"r16_identifiable_cell_count\"])[\"uid\"].count().tolist(),\n",
    "        \"r32\": m.groupby([\"r32_identifiable_cell_count\"])[\"uid\"].count().tolist(),\n",
    "    }\n",
    ").sort_values(\"different_cells\", ascending=False)\n",
    "result"
   ]
  },
  {
   "cell_type": "code",
   "execution_count": 55,
   "metadata": {
    "metadata": {}
   },
   "outputs": [],
   "source": [
    "result.to_csv(\"../output/identifiable_users.csv\", index=False)"
   ]
  },
  {
   "cell_type": "code",
   "execution_count": 104,
   "metadata": {
    "metadata": {}
   },
   "outputs": [],
   "source": [
    "with open(\"../paper/top4_table.tex\", \"w\") as fp:\n",
    "    t = result.to_latex(\n",
    "        index=False,\n",
    "        header=[\n",
    "            \"distinguishable cells\",\n",
    "            \"1 km x 1 km\",\n",
    "            \"2 km x 2 km\",\n",
    "            \"4 km x 4 km\",\n",
    "            \"8 km x 8 km\",\n",
    "            \"16 km x 16 km\",\n",
    "        ],\n",
    "        position=\"t\",\n",
    "        label=\"tab:top4\",\n",
    "        caption=\"Comparison of the top-four-location identifiable users by upscaled grids.\",\n",
    "        # buf=fp\n",
    "    )\n",
    "    t = re.sub(\"\\\\\\\\begin{table}\\\\[t\\\\]\", \"\\\\\\\\begin{table}[t]\\n\\\\\\\\centering\", t)\n",
    "    print(t, file=fp)"
   ]
  },
  {
   "cell_type": "code",
   "execution_count": 22,
   "metadata": {},
   "outputs": [
    {
     "name": "stdout",
     "output_type": "stream",
     "text": [
      "|   distinguishable cells |   1 km x 1 km |   2 km x 2 km |   4 km x 4 km |   8 km x 8 km |   16 km x 16 km |\n",
      "|------------------------:|--------------:|--------------:|--------------:|--------------:|----------------:|\n",
      "|                       4 |         35469 |         12882 |          5090 |          1810 |             470 |\n",
      "|                       3 |         48228 |         42323 |         28457 |         16752 |            7438 |\n",
      "|                       2 |         15582 |         38548 |         50987 |         52608 |           44939 |\n",
      "|                       1 |           721 |          6247 |         15466 |         28830 |           47153 |\n"
     ]
    }
   ],
   "source": [
    "mdt = result.copy()\n",
    "mdt.columns = [\n",
    "    \"distinguishable cells\",\n",
    "    \"1 km x 1 km\",\n",
    "    \"2 km x 2 km\",\n",
    "    \"4 km x 4 km\",\n",
    "    \"8 km x 8 km\",\n",
    "    \"16 km x 16 km\",\n",
    "]\n",
    "print(\n",
    "    mdt.to_markdown(\n",
    "        index=False,\n",
    "    )\n",
    ")"
   ]
  },
  {
   "cell_type": "code",
   "execution_count": null,
   "metadata": {},
   "outputs": [],
   "source": []
  }
 ],
 "metadata": {
  "kernelspec": {
   "display_name": "reverse-engineering-yjmob100k-grid-lm2EsvD6-py3.12",
   "language": "python",
   "name": "python3"
  },
  "language_info": {
   "codemirror_mode": {
    "name": "ipython",
    "version": 3
   },
   "file_extension": ".py",
   "mimetype": "text/x-python",
   "name": "python",
   "nbconvert_exporter": "python",
   "pygments_lexer": "ipython3",
   "version": "3.12.3"
  }
 },
 "nbformat": 4,
 "nbformat_minor": 2
}
